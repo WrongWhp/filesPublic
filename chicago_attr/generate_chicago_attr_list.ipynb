{
 "cells": [
  {
   "cell_type": "code",
   "execution_count": 4,
   "metadata": {
    "collapsed": true
   },
   "outputs": [],
   "source": [
    "import os\n",
    "from shutil import copyfile\n",
    "def writeNewFile(prevFname,newFname):\n",
    "    text_file = open(newFname, \"w\")\n",
    "    prevFile = open(prevFname, \"r\")\n",
    "    lines = prevFile.read().split('\\n')\n",
    "    for l in lines:\n",
    "        if len(l)>1:\n",
    "            temp = l.split(',')\n",
    "            d = temp[0]+'\\n'+temp[1]+'\\n'\n",
    "            text_file.write(d)\n",
    "    prevFile.close()\n",
    "    text_file.close()\n",
    "    print 'DONE!'\n",
    "    "
   ]
  },
  {
   "cell_type": "code",
   "execution_count": 6,
   "metadata": {
    "collapsed": false
   },
   "outputs": [
    {
     "name": "stdout",
     "output_type": "stream",
     "text": [
      "DONE!\n",
      "DONE!\n"
     ]
    }
   ],
   "source": [
    "file1 = \"HIT1.txt\"\n",
    "file2 = \"HIT2.txt\"\n",
    "\n",
    "openPath = '/Users/Olivialinlin/Documents/Github/filesPublic/vicente_pair_jan/'\n",
    "savePath = '/Users/Olivialinlin/Documents/Github/filesPublic/chicago_attr/'\n",
    "if not os.path.isdir(savePath):\n",
    "    os.makedirs(savePath)\n",
    "writeNewFile(openPath+file1,savePath+file1)    \n",
    "writeNewFile(openPath+file2,savePath+file2)    "
   ]
  },
  {
   "cell_type": "code",
   "execution_count": null,
   "metadata": {
    "collapsed": true
   },
   "outputs": [],
   "source": []
  }
 ],
 "metadata": {
  "kernelspec": {
   "display_name": "Python 2",
   "language": "python",
   "name": "python2"
  },
  "language_info": {
   "codemirror_mode": {
    "name": "ipython",
    "version": 2
   },
   "file_extension": ".py",
   "mimetype": "text/x-python",
   "name": "python",
   "nbconvert_exporter": "python",
   "pygments_lexer": "ipython2",
   "version": "2.7.10"
  }
 },
 "nbformat": 4,
 "nbformat_minor": 0
}
